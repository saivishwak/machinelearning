{
 "cells": [
  {
   "cell_type": "code",
   "execution_count": 1,
   "id": "fd6a59c8-9090-4297-a9c8-022f9fb75a0e",
   "metadata": {},
   "outputs": [
    {
     "name": "stderr",
     "output_type": "stream",
     "text": [
      "/home/vishwak/Desktop/projects/machinelearning/.env/lib/python3.12/site-packages/tqdm/auto.py:21: TqdmWarning: IProgress not found. Please update jupyter and ipywidgets. See https://ipywidgets.readthedocs.io/en/stable/user_install.html\n",
      "  from .autonotebook import tqdm as notebook_tqdm\n"
     ]
    }
   ],
   "source": [
    "import torch\n",
    "import torch.nn as nn\n",
    "import numpy as np\n",
    "from datasets import Dataset, DatasetDict\n",
    "from pathlib import Path"
   ]
  },
  {
   "cell_type": "code",
   "execution_count": 2,
   "id": "c4a99517-afbb-4cc8-872b-8d5f2b3a7ec7",
   "metadata": {},
   "outputs": [],
   "source": [
    "def load_text(file_path):\n",
    "    with open(file_path, 'r', encoding='utf-8') as file:\n",
    "        return file.readlines()"
   ]
  },
  {
   "cell_type": "code",
   "execution_count": 3,
   "id": "098ebffc-d8df-438f-a5ca-043cd51c20c2",
   "metadata": {},
   "outputs": [],
   "source": [
    "def create_translation_dataset(english_file, hindi_file):\n",
    "    # Load the texts from the files\n",
    "    english_texts = load_text(english_file)\n",
    "    hindi_texts = load_text(hindi_file)\n",
    "\n",
    "    # Check if both files have the same number of lines\n",
    "    if len(english_texts) != len(hindi_texts):\n",
    "        raise ValueError(\"The number of lines in the English and Hindi files do not match.\")\n",
    "    \n",
    "    # Create a list of dictionaries where each dictionary contains 'english' and 'hindi' texts\n",
    "    data = [{'english': eng.strip(), 'hindi': hin.strip()} \n",
    "            for eng, hin in zip(english_texts, hindi_texts)]\n",
    "    \n",
    "    # Create a Dataset from the list of dictionaries\n",
    "    dataset = Dataset.from_dict({'translation': data})\n",
    "    \n",
    "    return dataset"
   ]
  },
  {
   "cell_type": "code",
   "execution_count": 4,
   "id": "5387232c-378e-4f57-b07d-0a6daa889ada",
   "metadata": {},
   "outputs": [
    {
     "name": "stdout",
     "output_type": "stream",
     "text": [
      "{'translation': {'english': \"However, Paes, who was partnering Australia's Paul Hanley, could only go as far as the quarterfinals where they lost to Bhupathi and Knowles\", 'hindi': 'आस्ट्रेलिया के पाल हेनली के साथ जोड़ी बनाने वाले पेस मियामी में क्वार्टरफाइनल तक ही पहुंच सके क्योंकि इस दौर में उन्हें भूपति और नोल्स ने हराया था।'}}\n"
     ]
    }
   ],
   "source": [
    "# Define file paths\n",
    "english_file = '../data/v3/v2/en-hi/train.en'\n",
    "hindi_file = '../data/v3/v2/en-hi/train.hi'\n",
    "\n",
    "# Create the dataset\n",
    "dataset = create_translation_dataset(english_file, hindi_file)\n",
    "\n",
    "# For demonstration, print the first example\n",
    "print(dataset[0])"
   ]
  },
  {
   "cell_type": "code",
   "execution_count": 5,
   "id": "d6f6ecb2-a5e4-4e68-be62-9c78586f0b25",
   "metadata": {},
   "outputs": [
    {
     "name": "stdout",
     "output_type": "stream",
     "text": [
      "{'translation': {'english': 'and guided them to a straight path.', 'hindi': 'और उनको राहे रास्त की भी ज़रूर हिदायत करते'}}\n"
     ]
    }
   ],
   "source": [
    "print(dataset[-1])"
   ]
  },
  {
   "cell_type": "code",
   "execution_count": 6,
   "id": "294adc71-d2e9-473a-8c45-4d594d7f9874",
   "metadata": {},
   "outputs": [
    {
     "name": "stdout",
     "output_type": "stream",
     "text": [
      "10125690\n"
     ]
    }
   ],
   "source": [
    "print(len(dataset))"
   ]
  },
  {
   "cell_type": "code",
   "execution_count": 7,
   "id": "11e3fdb8-8ce5-49ab-926e-c77c195b4054",
   "metadata": {},
   "outputs": [],
   "source": [
    "from torch.utils.data import Dataset, DataLoader, random_split\n",
    "# Keep 90% for training, 10% for validation\n",
    "train_ds_size = int(0.9 * len(dataset))\n",
    "val_ds_size = len(dataset) - train_ds_size\n",
    "train_ds_raw, val_ds_raw = random_split(dataset, [train_ds_size, val_ds_size])"
   ]
  },
  {
   "cell_type": "code",
   "execution_count": 8,
   "id": "62b8e4a2-5b73-4c2b-91d9-8d08487c29c1",
   "metadata": {},
   "outputs": [
    {
     "data": {
      "text/plain": [
       "9113121"
      ]
     },
     "execution_count": 8,
     "metadata": {},
     "output_type": "execute_result"
    }
   ],
   "source": [
    "len(train_ds_raw)"
   ]
  },
  {
   "cell_type": "code",
   "execution_count": 9,
   "id": "60857da6-acd3-423f-82d2-5f7a06c347e7",
   "metadata": {},
   "outputs": [
    {
     "data": {
      "text/plain": [
       "1012569"
      ]
     },
     "execution_count": 9,
     "metadata": {},
     "output_type": "execute_result"
    }
   ],
   "source": [
    "len(val_ds_raw)"
   ]
  },
  {
   "cell_type": "code",
   "execution_count": 10,
   "id": "31860623-8fc7-4bdd-8c3d-ca19ffd1c18b",
   "metadata": {},
   "outputs": [
    {
     "data": {
      "text/plain": [
       "{'translation': {'english': 'Serve with rice or bread.',\n",
       "  'hindi': 'इसे रोटी या पूरी के साथ खाया जाता है.'}}"
      ]
     },
     "execution_count": 10,
     "metadata": {},
     "output_type": "execute_result"
    }
   ],
   "source": [
    "val_ds_raw[0]"
   ]
  },
  {
   "cell_type": "code",
   "execution_count": 11,
   "id": "91553312-5e6c-4836-89e4-5ac6e279fa91",
   "metadata": {},
   "outputs": [],
   "source": [
    "from datasets import load_dataset\n",
    "from datasets import Dataset\n",
    "from tokenizers import Tokenizer\n",
    "from tokenizers.models import WordLevel\n",
    "from tokenizers.trainers import WordLevelTrainer\n",
    "from tokenizers import Tokenizer, models, pre_tokenizers, trainers \n",
    "from tokenizers.pre_tokenizers import Whitespace\n",
    "\n",
    "def get_or_build_bpe_tokenizer(config, ds, lang):\n",
    "    tokenizer_path = Path('../tokenizer_{0}.json'.format(lang))\n",
    "    if not tokenizer_path.exists():\n",
    "        raise \"Error\"\n",
    "    else:\n",
    "        tokenizer = Tokenizer.from_file(str(tokenizer_path))\n",
    "    return tokenizer"
   ]
  },
  {
   "cell_type": "code",
   "execution_count": 12,
   "id": "88056221-6754-4bc6-8e62-576812566367",
   "metadata": {},
   "outputs": [],
   "source": [
    "en_tokenizer = get_or_build_bpe_tokenizer(None, None, 'en')"
   ]
  },
  {
   "cell_type": "code",
   "execution_count": 13,
   "id": "07399b65-1834-406e-adbb-7994ff8b2995",
   "metadata": {},
   "outputs": [],
   "source": [
    "hi_tokenizer = get_or_build_bpe_tokenizer(None, None, 'hi')"
   ]
  },
  {
   "cell_type": "code",
   "execution_count": 15,
   "id": "9dec1a13-fc2d-49c4-b6bb-50f1fe090ade",
   "metadata": {},
   "outputs": [],
   "source": [
    "# Check the max seq_len for tokens to modify the data, So we can take context length of 1k tokens\n",
    "max_len_en = 0\n",
    "max_len_hi = 0\n",
    "d = []\n",
    "d_h = []\n",
    "for index, data in enumerate(dataset):\n",
    "    en = len(en_tokenizer.encode(data['translation']['english']).ids)\n",
    "    hi = len(hi_tokenizer.encode(data['translation']['hindi']).ids)\n",
    "    if en > max_len_en:\n",
    "        d.append(index)\n",
    "    if hi > max_len_hi:\n",
    "        d_h.append(index)\n",
    "    max_len_en = max(en, max_len_en)\n",
    "    max_len_hi = max(hi, max_len_hi)"
   ]
  },
  {
   "cell_type": "code",
   "execution_count": 16,
   "id": "307bea11-4de3-4fa2-9286-0c683210d8a6",
   "metadata": {},
   "outputs": [
    {
     "name": "stdout",
     "output_type": "stream",
     "text": [
      "3822 2294\n"
     ]
    }
   ],
   "source": [
    "print(max_len_en, max_len_hi)"
   ]
  },
  {
   "cell_type": "code",
   "execution_count": 17,
   "id": "fde0a9f4-5bae-498c-94ab-a6f62e70dbf3",
   "metadata": {},
   "outputs": [],
   "source": [
    "d.sort()\n",
    "d_h.sort()"
   ]
  },
  {
   "cell_type": "code",
   "execution_count": 18,
   "id": "a69aa709-36ad-4bab-ba59-dbde9f8b87fb",
   "metadata": {},
   "outputs": [
    {
     "name": "stdout",
     "output_type": "stream",
     "text": [
      "[0, 1, 7, 10, 26, 66, 87, 89, 399, 7749, 10128, 39219, 169572, 196470, 303756, 938082, 2724105, 2958494, 3933023, 6424507, 7053659, 8647465]\n"
     ]
    }
   ],
   "source": [
    "print(d)"
   ]
  },
  {
   "cell_type": "code",
   "execution_count": 19,
   "id": "8f957734-c35b-4128-af30-259c6ed4f352",
   "metadata": {},
   "outputs": [
    {
     "name": "stdout",
     "output_type": "stream",
     "text": [
      "[0, 1, 26, 28, 33, 87, 89, 399, 3716, 7749, 10128, 40303, 121122, 196470, 303756, 651857, 938082, 2074888, 2724105, 6766497]\n"
     ]
    }
   ],
   "source": [
    "print(d_h)"
   ]
  },
  {
   "cell_type": "code",
   "execution_count": 20,
   "id": "5992e8d7-07c1-4542-af91-54cf31e78d26",
   "metadata": {},
   "outputs": [
    {
     "name": "stdout",
     "output_type": "stream",
     "text": [
      "{'translation': {'english': 'Come to the Joyful Praisers District Convention WHAT a fine theme has been chosen for the 1995 district conventions: Joyful Praisers ! This is certainly what Jehovahs Witnesses are. Praisers of whom? Why, Jehovah God of course! Jehovah is matchless, peerless, incomparable, unique in so many ways. He is omnipotent, omniscient, perfect in justice, and the personification of love. He is worthy, above all others, to receive our worship and praise. Surely we want to be joyful praisers of him! To help us, the Governing Body of Jehovahs Witnesses has arranged a fine three - day convention program, beginning in the summer of 1995. These three days will certainly be joyful ones, and every Witness of Jehovah will want to do his utmost to be present from the opening song on Friday morning until the closing song and prayer on Sunday afternoon. 1995 District Convention Locations JUNE 2 - 4 JACKSONVILLE, FL, Memorial Coliseum, Gator Bowl Sports Complex. LONG BEACH, CA, Long Beach Convention and Entertainment Center, 300 E. Ocean Blvd. JUNE 9 - 11 COLUMBIA, SC, Carolina Coliseum, Assembly & Blossom Sts. COLUMBUS, OH, Greater Columbus Convention Center, 400 N. High St. JACKSONVILLE, FL, Memorial Coliseum, Gator Bowl Sports Complex. KANSAS CITY, MO, Kemper Arena, 1800 Genessee St. NEW HAVEN, CT, Veterans Memorial Coliseum, 275 S. Orange St. PHILADELPHIA, PA, Veterans Stadium, S. Broad & Pattison Ave. SAN FRANCISCO, CA, Cow Palace, Geneva Ave. JUNE 16 - 18 BEAUMONT, TX (Spanish only), Civic Center Arena, 701 Main St. CICERO, IL, Hawthorne Race Track, 35th & Cicero Ave. COLUMBIA, SC, Carolina Coliseum, Assembly & Blossom Sts. COLUMBUS, OH, Greater Columbus Convention Center, 400 N. High St. CORVALLIS, OR, Gill Coliseum, 600 S.W. 26th St. FORT WORTH, TX, Tarrant County Convention Center, 1111 Houston St. HOUSTON, TX, Astrodome, Loop 610 at Kirby Dr. JACKSON, MS, Mississippi Coliseum, 1207 Mississippi St. KANSAS CITY, MO, Kemper Arena, 1800 Genessee St. LONG BEACH, CA, Long Beach Convention and Entertainment Center, 300 E. Ocean Blvd. MACON, GA, Coliseum, 200 Coliseum Dr. NEW HAVEN, CT, Veterans Memorial Coliseum, 275 S. Orange St. PONTIAC, MI, Silverdome, 1200 Featherstone Rd. ST. PETERSBURG, FL, Bayfront Center, 400 1st St. S. SAN DIEGO, CA, Jack Murphy Stadium, 9449 Friars Rd. SAN FRANCISCO, CA, Cow Palace, Geneva Ave. SOUTH BEND, IN, Notre Dame University Joyce Athletic Center, Juniper Rd. WEST PALM BEACH, FL, Auditorium, 1610 Palm Beach Lakes Blvd. JUNE 23 - 25 ALBANY, GA, Civic Center, 100 West Oglethorpe Ave. AMARILLO, TX, Civic Center Coliseum, 3rd & Buchanan Sts. CICERO, IL, Hawthorne Race Track, 35th & Cicero Ave. COLUMBIA, SC, Carolina Coliseum, Assembly & Blossom Sts. COLUMBUS, OH, Greater Columbus Convention Center, 400 N. High St. CORVALLIS, OR, Gill Coliseum, 600 S.W. 26th St. FORT WORTH, TX, Tarrant County Convention Center, 1111 Houston St. JACKSON, MS, Mississippi Coliseum, 1207 Mississippi St. LONG BEACH, CA, Long Beach Convention and Entertainment Center, 300 E. Ocean Blvd. MACON, GA, Coliseum, 200 Coliseum Dr. MADISON, WI, Dane County Exposition Center, 1881 Expo Mall East. NEW HAVEN, CT (Spanish only), Veterans Memorial Coliseum, 275 S. Orange St. OGDEN, UT, Dee Events Center, 4600 South 1400 E. List continues on previous page Continued from page 32 OKLAHOMA CITY, OK, Myriad, One Myriad Gardens. ROANOKE, VA, Civic Center, 710 Williamson Rd. N.E. ROCHESTER, MN, Mayo Civic Center Arena, 30 2nd Ave. S.E. ST. PETERSBURG, FL, Bayfront Center, 400 1st St. S. SAN FRANCISCO, CA, Cow Palace, Geneva Ave. SOUTH BEND, IN, Notre Dame University Joyce Athletic Center, Juniper Rd. WEST PALM BEACH, FL, Auditorium, 1610 Palm Beach Lakes Blvd. JUNE 30 JULY 2 AMARILLO, TX, Civic Center Coliseum, 3rd & Buchanan Sts. BILLINGS, MT, MetraPark Arena, Hwy. # 10. CICERO, IL, Hawthorne Race Track, 35th & Cicero Ave. CLEVELAND, OH, Cleveland State University Convocation Centre, Prospect & E. 21st Sts. COLUMBIA, SC, Carolina Coliseum, Assembly & Blossom Sts. COLUMBUS, OH, Greater Columbus Convention Center, 400 N. High St. CORVALLIS, OR, Gill Coliseum, 600 S.W. 26th St. DENVER, CO, McNichols Sports Arena, 1635 Clay St. FORT WORTH, TX, Tarrant County Convention Center, 1111 Houston St. LAFAYETTE, LA, Cajundome, West Congress. LONG BEACH, CA, Long Beach Convention and Entertainment Center, 300 E. Ocean Blvd. MACON, GA, Coliseum, 200 Coliseum Dr. MADISON, WI, Dane County Exposition Center, 1881 Expo Mall East. MEMPHIS, TN, Mid - South Coliseum, Mid - South Fairgrounds. OGDEN, UT, Dee Events Center, 4600 South 1400 E. OKLAHOMA CITY, OK, Myriad, One Myriad Gardens. PROVIDENCE, RI, Civic Center, One LaSalle Sq. RICHMOND, VA, Coliseum, 601 E. Leigh St. ROANOKE, VA, Civic Center, 710 Williamson Rd. N.E. ROCHESTER, MN, Mayo Civic Center Arena, 30 2nd Ave. S.E. ST. PETERSBURG, FL, Bayfront Center, 400 1st St. S. SAN FRANCISCO, CA, Cow Palace, Geneva Ave. SOUTH BEND, IN, Notre Dame University Joyce Athletic Center, Juniper Rd. SPRINGFIELD, IL, Prairie Capital Convention Center, One Convention Center Plaza. SPRINGFIELD, MA, Civic Center, 1277 Main St. TACOMA, WA, Tacoma Dome, 2727 E. D St. TUCSON, AZ, Convention Center, 260 S. Church St. UNIONDALE, NY, Nassau Veterans Memorial Coliseum, 1255 Hempstead Tpke. WEST PALM BEACH, FL, Auditorium, 1610 Palm Beach Lakes Blvd. JULY 7 - 9 ALBANY, GA, Civic Center, 100 West Oglethorpe Ave. AMARILLO, TX (Spanish only), Civic Center Coliseum, 3rd & Buchanan Sts. BIRMINGHAM, AL, Civic Center Coliseum, One Civic Center Plaza. BISMARCK, ND, Civic Center Arena, 601 E. Sweet Ave. CICERO, IL, Hawthorne Race Track, 35th & Cicero Ave. CLEVELAND, OH, Cleveland State University Convocation Centre, Prospect & E. 21st Sts. DENVER, CO, McNichols Sports Arena, 1635 Clay St. FORT WORTH, TX (Spanish only), Tarrant County Convention Center, 1111 Houston St. JERSEY CITY, NJ (American Sign Language only), Assembly Hall of Jehovahs Witnesses, 2932 Kennedy Blvd. KENNEWICK, WA (Spanish only), Tri - Cities Coliseum, 7100 W. Quinault. LAFAYETTE, LA, Cajundome, West Congress. LONG BEACH, CA, Long Beach Convention and Entertainment Center, 300 E. Ocean Blvd. LOUISVILLE, KY, Freedom Hall Coliseum, Kentucky Fair & Expo Center, 937 Phillips Ln. MACON, GA, Coliseum, 200 Coliseum Dr. MADISON, WI, Dane County Exposition Center, 1881 Expo Mall East. MEMPHIS, TN, Mid - South Coliseum, Mid - South Fairgrounds. PROVIDENCE, RI, Civic Center, One LaSalle Sq. RICHMOND, CA (Korean only), Richmond Memorial Convention Center, 2544 Barrett Ave. RICHMOND, VA, Coliseum, 601 E. Leigh St. ROANOKE, VA, Civic Center, 710 Williamson Rd. N.E. ROCHESTER, MN, Mayo Civic Center Arena, 30 2nd Ave. S.E. ST. PETERSBURG, FL, Bayfront Center, 400 1st St. S. SAN ANTONIO, TX (Spanish only), Convention Center Arena, S. Alamo & Market Sts. SAN DIEGO, CA (Spanish only), Jack Murphy Stadium, 9449 Friars Rd. SAN FRANCISCO, CA, Cow Palace, Geneva Ave. SPRINGFIELD, IL, Prairie Capital Convention Center, One Convention Center Plaza. SYRACUSE, NY, Onondaga County War Memorial Arena, 515 Montgomery St. TACOMA, WA, Tacoma Dome, 2727 E. D St. TUCSON, AZ (Spanish only), Convention Center, 260 S. Church St. UNIONDALE, NY, Nassau Veterans Memorial Coliseum, 1255 Hempstead Tpke. WEST PALM BEACH, FL, Auditorium, 1610 Palm Beach Lakes Blvd. JULY 14 - 16 BIRMINGHAM, AL, Civic Center Coliseum, One Civic Center Plaza. CICERO, IL (Spanish only), Hawthorne Race Track, 35th & Cicero Ave. FRESNO, CA, Convention Center, 700 M St. HAMPTON, VA, Coliseum, 1000 Coliseum Dr. JERSEY CITY, NJ (Korean only), Assembly Hall of Jehovahs Witnesses, 2932 Kennedy Blvd. LAFAYETTE, LA, Cajundome, West Congress. LONG BEACH, CA, Long Beach Convention and Entertainment Center, 300 E. Ocean Blvd. LONG ISLAND CITY, NY (Chinese only), Assembly Hall of Jehovahs Witnesses, 44 - 17 Greenpoint Ave. LOUISVILLE, KY, Freedom Hall Coliseum, Kentucky Fair & Expo Center, 937 Phillips Ln. MEMPHIS, TN, Mid - South Coliseum, Mid - South Fairgrounds. PHILADELPHIA, PA, Veterans Stadium, S. Broad & Pattison Ave. PHOENIX, AZ, Veterans Memorial Coliseum, 1826 W. McDowell Rd. PROVIDENCE, RI, Civic Center, One LaSalle Sq. RICHMOND, CA (Tagalog only), Richmond Memorial Convention Center, 2544 Barrett Ave. RICHMOND, VA, Coliseum, 601 E. Leigh St. ROCHESTER, MN, Mayo Civic Center Arena, 30 2nd Ave. S.E. ST. PETERSBURG, FL, Bayfront Center, 400 1st St. S. SAN FRANCISCO, CA (Portuguese sessions also), Cow Palace, Geneva Ave. SPRINGFIELD, MA, Civic Center, 1277 Main St. SYRACUSE, NY, Onondaga County War Memorial Arena, 515 Montgomery St. TUCSON, AZ (Spanish only), Convention Center, 260 S. Church St. UNIONDALE, NY, Nassau Veterans Memorial Coliseum, 1255 Hempstead Tpke. WEST PALM BEACH, FL, Auditorium, 1610 Palm Beach Lakes Blvd. JULY 21 - 23 BEAUMONT, TX (Spanish only), Civic Center Arena, 701 Main St. CICERO, IL (Spanish only), Hawthorne Race Track, 35th & Cicero Ave. ESCONDIDO, CA (Japanese only), Assembly Hall of Jehovahs Witnesses, 1873 Iris Ln. FRESNO, CA, Convention Center, 700 M St. HAMPTON, VA, Coliseum, 1000 Coliseum Dr. JERSEY CITY, NJ (French only), Assembly Hall of Jehovahs Witnesses, 2932 Kennedy Blvd. LINCOLN, NE, Devaney Sports Center, 16th St. & Military Rd. LONG ISLAND CITY, NY (Italian only), Assembly Hall of Jehovahs Witnesses, 44 - 17 Greenpoint Ave. MONROE, NY (Portuguese only), Assembly Hall of Jehovahs Witnesses, Mountain & Forest Roads. PHOENIX, AZ, Veterans Memorial Coliseum, 1826 W. McDowell Rd. RICHMOND, VA, Coliseum, 601 E. Leigh St. ROCHESTER, NY, Community War Memorial, 100 Exchange Blvd. ST. PETERSBURG, FL (Spanish only), Bayfront Center, 400 1st St. S. SAN FRANCISCO, CA (Spanish only), Cow Palace, Geneva Ave. SPRINGFIELD, MA, Civic Center, 1277 Main St. WEST PALM BEACH, FL (Spanish only), Auditorium, 1610 Palm Beach Lakes Blvd. JULY 28 - 30 BEAUMONT, TX (Spanish only), Civic Center Arena, 701 Main St. CLEVELAND, OH, Cleveland State University Convocation Centre, Prospect & E. 21st Sts. ESCONDIDO, CA (American Sign Language only), Assembly Hall of Jehovahs Witnesses, 1873 Iris Ln. FRESNO, CA, Convention Center, 700 M St. JERSEY CITY, NJ (French only), Assembly Hall of Jehovahs Witnesses, 2932 Kennedy Blvd. LONG BEACH, CA (Spanish only), Long Beach Convention and Entertainment Center, 300 E. Ocean Blvd. LONG BEACH, CA (Vietnamese only), Long Beach Convention and Entertainment Center, 300 E. Ocean Blvd. LONG ISLAND CITY, NY (Japanese only), Assembly Hall of Jehovahs Witnesses, 44 - 17 Greenpoint Ave. ROCHESTER, NY, Community War Memorial, 100 Exchange Blvd. ST. PETERSBURG, FL (Spanish only), Bayfront Center, 400 1st St. S. SAN FRANCISCO, CA (Spanish only), Cow Palace, Geneva Ave. SPRINGFIELD, IL, Prairie Capital Convention Center, One Convention Center Plaza. UNIONDALE, NY, Nassau Veterans Memorial Coliseum, 1255 Hempstead Tpke. WEST PALM BEACH, FL (Spanish only), Auditorium, 1610 Palm Beach Lakes Blvd. AUGUST 4 - 6 CLEVELAND, OH, Cleveland State University Convocation Centre, Prospect & E. 21st Sts. FRESNO, CA (Spanish only), Convention Center, 700 M St. JACKSON, MS, Mississippi Coliseum, 1207 Mississippi St. LONG BEACH, CA (Spanish only), Long Beach Convention and Entertainment Center, 300 E. Ocean Blvd. LONG ISLAND CITY, NY (Greek only), Assembly Hall of Jehovahs Witnesses, 44 - 17 Greenpoint Ave. ST. PETERSBURG, FL (French only), Bayfront Center, 400 1st St. S. UNIONDALE, NY, Nassau Veterans Memorial Coliseum, 1255 Hempstead Tpke. WEST PALM BEACH, FL (Spanish only), Auditorium, 1610 Palm Beach Lakes Blvd. AUGUST 11 - 13 CORPUS CHRISTI, TX (Spanish only), Memorial Coliseum, 402 S. Shoreline Blvd. FRESNO, CA (Spanish only), Convention Center, 700 M St. LONG BEACH, CA (Spanish Only), Long Beach Convention and Entertainment Center, 300 E. Ocean Blvd. UNIONDALE, NY (Spanish only), Nassau Veterans Memorial Coliseum, 1255 Hempstead Tpke. AUGUST 18 - 20 CORPUS CHRISTI, TX (Spanish only), Memorial Coliseum, 402 S. Shoreline Blvd. UNIONDALE, NY (Spanish only), Nassau Veterans Memorial Coliseum, 1255 Hempstead Tpke. WEST PALM BEACH, FL (Spanish only), Auditorium, 1610 Palm Beach Lakes Blvd. AUGUST 25 - 27 CORPUS CHRISTI, TX (Spanish only), Memorial Coliseum, 402 S. Shoreline Blvd. LONG BEACH, CA (Spanish only), Long Beach Convention and Entertainment Center, 300 E. Ocean Blvd. UNIONDALE, NY (Spanish only), Nassau Veterans Memorial Coliseum, 1255 Hempstead Tpke. WEST PALM BEACH, FL (Spanish only), Auditorium, 1610 Palm Beach Lakes Blvd. SEPTEMBER 15 - 17 LONG BEACH, CA (Spanish only), Long Beach Convention and Entertainment Center, 300 E. Ocean Blvd. Britain JUNE 16 - 18 GUERNSEY, C.I., Beau Sejour Leisure Centre, St. Peter Port. JUNE 21 - 24 BRIGHTON, The Brighton Centre, Kings Rd. JUNE 23 - 25 BOURNEMOUTH, Bournemouth and Boscombe Athletic Football Club, Dean Court. COVENTRY, Highfield Road Stadium, King Richard St. JUNE 30 JULY 2 LEEDS, Leeds United Football Club, Elland Rd. LONDON (Greek only), North London Assembly Hall, 174 Bowes Rd. LONDON (Italian only), Surrey Assembly Hall, Brickhouse Lane, South Godstone. PLYMOUTH (A), Plymouth Argyle Football Club, Home Park. SUNDERLAND (Tentative), Sunderland Football Club, Roker Park, Grantham Rd. WOLVERHAMPTON, Wolverhampton Wanderers Football Club, Molineux Grounds, Waterloo Rd. JULY 7 - 9 LIVERPOOL, Everton Football Club, Goodison Park, Goodison Rd. PLYMOUTH (B), Plymouth Argyle Football Club, Home Park. JULY 14 - 16 CARDIFF, Welsh National Rugby Ground, Cardiff Arms Park. NORWICH, Norwich City Football Club, Carrow Rd. NOTTINGHAM, Nottingham Forest Football Club, City Ground. PERTH, St. Johnstone Football Club, McDiarmid Park, Crieff Rd. JULY 21 - 23 LONDON (CRYSTAL PALACE), National Sports Centre, Norwood. JULY 28 - 30 LONDON (TWICKENHAM) (Spanish also), Rugby Union Ground, Whitton Rd., Twickenham, Middx. SEPTEMBER 15 - 17 MALTA, New Dolman Hotel Conference Centre, Qawra, St. Pauls Bay. Ireland JULY 7 - 9 NAVAN, Navan Exhibition Centre, Trim Rd. JULY 14 - 16 NAVAN, Navan Exhibition Centre, Trim Rd. JULY 21 - 23 NAVAN, Navan Exhibition Centre, Trim Rd. Canada JUNE 23 - 25 CALGARY, ALTA. ( Spanish sessions also), Stampede Corral, Stampede Park, 12th Ave. & 4th St. SE. KITCHENER, ONT. ( Vietnamese sessions also), Kitchener Memorial Auditorium Complex, 400 East Ave. PENTICTON, B.C., Penticton Trade & Convention Centre, 273 Power St. SUDBURY, ONT., Sudbury Arena, 240 Elgin St. WINDSOR, ONT., St. Denis Athletic & Community Centre, University of Windsor, College Ave. & Huron Church Rd. JUNE 30 JULY 2 EDMONTON, ALTA., Northlands Coliseum, 7300 118th Ave. HAMILTON, ONT. ( Korean sessions also), Copps Coliseum, 101 York Blvd. KITCHENER, ONT. ( Spanish only), Kitchener Memorial Auditorium Complex, 400 East Ave. MONCTON, N.B., Coliseum Agrena, Killam Dr. MONTREAL, QUE. ( Greek sessions also), Maurice - Richard Arena, 2800, rue Viau. SHERBROOKE, QUE. ( French only), Palais des Sports, 360, rue Parc. VANCOUVER, B.C. ( Sign language also), Pacific Coliseum, P.N.E. Grounds, Hastings St. E. & Renfrew St. JULY 7 - 9 HAMILTON, ONT. ( Sign language also. Greek sessions also), Copps Coliseum, 101 York Blvd. KAMLOOPS, B.C., Riverside Coliseum, 300 Lorne St. MONTREAL, QUE. ( French only), Maurice - Richard Arena, 2800, rue Viau. MOUNT PEARL, NFLD., Mount Pearl Glacier, Olympic Dr. NANAIMO, B.C., Frank Crane Arena, Beban Park Recreation Centre, 2300 Bowen Rd. OTTAWA, ONT. ( Arabic also), Civic Centre Arena, Lansdowne Park, 1015 Bank St. REGINA, SASK. ( Sign language also), The Agridome, Exhibition Grounds, Elphinstone St. & Saskatchewan Dr. WINNIPEG, MAN., Winnipeg Convention Centre, 375 York Ave. JULY 14 - 16 BRAMPTON, ONT. ( Portuguese only), Assembly Hall of Jehovahs Witnesses, Hwy. 7, 1 mile W. of Mississauga Rd., Norval. DARTMOUTH, N.S., Dartmouth Sportsplex, 110 Wyse Rd. MONTREAL, QUE. ( French only. sign language also), Maurice - Richard Arena, 2800, rue Viau. MONTREAL, QUE. ( Italian only), Assembly Hall of Jehovahs Witnesses, 12700, boul. Mtropolitain Est, Pointe - aux - Trembles. QUEBEC CITY, QUE. ( French only), Colise de Qubec, 2205, avenue du Colise. TERRACE, B.C., Terrace Arena, 3320 Kalum St. TRAIL, B.C., Trail Memorial Centre, 1051 Victoria St. VICTORIA, B.C., Victoria Memorial Arena, 1925 Blanshard St. JULY 21 - 23 BRAMPTON, ONT. ( Italian only), Assembly Hall of Jehovahs Witnesses, Hwy. 7, 1 mile W. of Mississauga Rd., Norval. HULL, QUE. ( French only), Palais des Congrs, 200, promenade du Portage. MONTREAL, QUE. ( French only), Maurice - Richard Arena, 2800, rue Viau. MONTREAL, QUE. ( Spanish only), Assembly Hall of Jehovahs Witnesses, 12700, boul. Mtropolitain Est, Pointe - aux - Trembles. PRINCE GEORGE, B.C., Civic Centre Complex & Plaza, 855 Dominion St. SURREY, B.C. ( Chinese only), Assembly Hall of Jehovahs Witnesses, 15577 82nd Ave. JULY 28 - 30 BRAMPTON, ONT.', 'hindi': '“ आनन्दित स्तुतिकर्ता ” ज़िला अधिवेशन के लिए आइए वर्ष १९९५ के ज़िला अधिवेशनों के लिए क्या ही बढ़िया शीर्षक चुना गया है: “आनन्दित स्तुतिकर्ता ”! निःसंदेह, यही तो यहोवा के गवाह हैं । किसके स्तुतिकर्ता? निश्\\u200dचय ही, यहोवा परमेश्\\u200dवर के! यहोवा अनेक तरीक़ों से बेजोड़, अनुपम, अतुलनीय, अद्वितीय है । वह सर्वशक्\\u200dतिमान, सर्वज्ञ, न्याय में परिपूर्ण, और प्रेम का प्रतिरूप है । अन्य किसी से भी बढ़कर, वह हमारी उपासना और स्तुति पाने के योग्य है । निश्\\u200dचय ही हम उसके आनन्दित स्तुतिकर्ता होना चाहेंगे! हमारी मदद करने के लिए, यहोवा के गवाहों के शासी निकाय ने एक बढ़िया तीन - दिवसीय अधिवेशन कार्यक्रम का प्रबंध किया है । ये अधिवेशन १९९५ की गर्मियों में शुरू होंगे ।'}}\n"
     ]
    }
   ],
   "source": [
    "print(dataset[d[-1]])"
   ]
  },
  {
   "cell_type": "code",
   "execution_count": 21,
   "id": "0cea41fd-14f2-48ca-b58d-56e67e2fce10",
   "metadata": {},
   "outputs": [],
   "source": [
    "text = 'The other films in this section include, Venice Film Festival Horizon Award Best Actor winner A Son by Mehdi Barsaoui, India Premiere of And Then We Danced by Levan Akin which had won 9 international awards, Cannes Jury Prize winner Bacurau co-directed by Juliano Dornelles and Kleber Mendona Filho with 9 international awards, India Premiere of Locarno Film Festival winner Echo by Rnar Rnarsson, India Premiere of Silver Berlin Bear Best Director winner I was at Home, But by Angela Schanelec, India Premiere of La belle poque by Nicolas Bedos, India Premiere of Lara by Jan Ole Gerster, Cannes Best Actress winner Little Joe by Jessica Hausner, India Premiere of Karlovy Vary Crystal Globe Best Director winner Patrick by Tim Mielants, India Premiere of Silver Berlin Bear Best Screenplay winner Piranhas by Claudio Giovannesi, India Premiere of Cannes Best Screenplay winner Portrait of a Lady on Fire by Cline Sciamma, Sundance Film Festival Audience award winner with 9 international awards Queen of Hearts by May el-Toukhy, India Premiere of Berlin Silver Bear Best Actor and Actress winner So Long My Son by Xiaoshuai Wang, India Premiere of Serbian film Stitches with 10 international awards directed by Miroslav Terzic, Golden Berlin Bear Best Film winner Synonyms by Nadav Lapid, Most sought after film of the year System Crasher with 10 international awards by Nora Fingscheidt, Tremors by Jayro Bustamante, India Premiere of Crystal Globe Best Film winner at Karlovy Vary Film Festival The Father by Kristina Grozeva and Petar Valchanov and India Premiere of Venice FIPRESCI Prize winner Blanco en blanco directed by Tho Court'"
   ]
  },
  {
   "cell_type": "code",
   "execution_count": 22,
   "id": "d497b018-12c9-4203-9c21-b7cf2c7f3ccb",
   "metadata": {},
   "outputs": [],
   "source": [
    "ids = en_tokenizer.encode(text).ids"
   ]
  },
  {
   "cell_type": "code",
   "execution_count": 23,
   "id": "057201e5-2b82-47dc-92dd-3af3247de9ce",
   "metadata": {},
   "outputs": [
    {
     "name": "stdout",
     "output_type": "stream",
     "text": [
      "[13, 79, 845, 10, 34, 562, 499, 6, 27933, 2183, 3296, 0, 1834, 1843, 1747, 4065, 80, 4133, 23, 27262, 0, 6, 32, 0, 7, 123, 628, 70, 0, 23, 0, 0, 51, 48, 348, 366, 516, 2555, 6, 16089, 16322, 5967, 4065, 0, 1127, 14, 612, 23, 0, 0, 8, 0, 0, 0, 21, 366, 516, 2555, 6, 32, 0, 7, 0, 2183, 3296, 4065, 0, 23, 0, 0, 6, 32, 0, 7, 4631, 7858, 17729, 1843, 633, 4065, 41, 19, 31, 473, 6, 122, 23, 10962, 0, 6, 32, 0, 7, 8095, 0, 0, 23, 21267, 0, 6, 32, 0, 7, 12395, 23, 3408, 0, 0, 6, 16089, 1843, 2698, 4065, 9791, 4544, 23, 21516, 0, 6, 32, 0, 7, 0, 0, 24917, 17885, 1843, 633, 4065, 16706, 23, 5667, 0, 6, 32, 0, 7, 4631, 7858, 17729, 1843, 0, 4065, 0, 23, 0, 0, 6, 32, 0, 7, 16089, 1843, 0, 4065, 26794, 7, 11, 7818, 16, 2149, 23, 0, 0, 6, 0, 2183, 3296, 28453, 1281, 4065, 21, 366, 516, 2555, 5426, 7, 0, 23, 632, 29578, 14, 0, 6, 32, 0, 7, 7858, 4631, 17729, 1843, 1747, 8, 2698, 4065, 178, 5841, 591, 4133, 23, 0, 10702, 6, 32, 0, 7, 22437, 119, 0, 21, 156, 516, 2555, 612, 23, 0, 0, 6, 5722, 7858, 17729, 1843, 2183, 4065, 0, 23, 0, 0, 6, 1145, 1161, 83, 119, 7, 4, 133, 2316, 0, 21, 156, 516, 2555, 23, 11896, 0, 6, 22170, 23, 0, 0, 6, 32, 0, 7, 24917, 17885, 1843, 2183, 4065, 31, 0, 0, 2183, 3296, 13, 2939, 23, 0, 0, 8, 0, 0, 8, 32, 0, 7, 27933, 0, 5967, 4065, 0, 10788, 0, 612, 23, 0, 203]\n",
      "287\n"
     ]
    }
   ],
   "source": [
    "print(ids)\n",
    "print(len(ids))"
   ]
  },
  {
   "cell_type": "code",
   "execution_count": 24,
   "id": "40285144-a026-4892-aba6-d3086cfbe627",
   "metadata": {},
   "outputs": [
    {
     "data": {
      "text/plain": [
       "'The'"
      ]
     },
     "execution_count": 24,
     "metadata": {},
     "output_type": "execute_result"
    }
   ],
   "source": [
    "en_tokenizer.decode([13])"
   ]
  },
  {
   "cell_type": "code",
   "execution_count": null,
   "id": "9c0635f9-92f7-4a44-a54c-456029bba692",
   "metadata": {},
   "outputs": [],
   "source": []
  },
  {
   "cell_type": "code",
   "execution_count": null,
   "id": "444511fd-ce33-47b6-9f93-0fd4e925c024",
   "metadata": {},
   "outputs": [],
   "source": []
  }
 ],
 "metadata": {
  "kernelspec": {
   "display_name": "Python 3 (ipykernel)",
   "language": "python",
   "name": "python3"
  },
  "language_info": {
   "codemirror_mode": {
    "name": "ipython",
    "version": 3
   },
   "file_extension": ".py",
   "mimetype": "text/x-python",
   "name": "python",
   "nbconvert_exporter": "python",
   "pygments_lexer": "ipython3",
   "version": "3.12.6"
  }
 },
 "nbformat": 4,
 "nbformat_minor": 5
}
