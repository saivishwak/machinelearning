{
 "cells": [
  {
   "cell_type": "markdown",
   "id": "7e9189ae-64e5-44b3-b66b-14a58349883f",
   "metadata": {},
   "source": [
    "# RNN Basics\n",
    "\n",
    "From http://karpathy.github.io/2015/05/21/rnn-effectiveness/\n",
    "\n",
    "https://github.com/karpathy/char-rnn"
   ]
  },
  {
   "cell_type": "code",
   "execution_count": 1,
   "id": "e4b726ad-4e0e-42a9-89e0-fadb2fceb42f",
   "metadata": {},
   "outputs": [],
   "source": [
    "import torch\n",
    "import torch.nn as nn\n",
    "import torch.optim as optim\n",
    "import matplotlib.pyplot as plt"
   ]
  },
  {
   "cell_type": "code",
   "execution_count": null,
   "id": "376f5294-b897-4e53-a567-5d4c6e4eb194",
   "metadata": {},
   "outputs": [],
   "source": []
  }
 ],
 "metadata": {
  "kernelspec": {
   "display_name": "Python 3 (ipykernel)",
   "language": "python",
   "name": "python3"
  },
  "language_info": {
   "codemirror_mode": {
    "name": "ipython",
    "version": 3
   },
   "file_extension": ".py",
   "mimetype": "text/x-python",
   "name": "python",
   "nbconvert_exporter": "python",
   "pygments_lexer": "ipython3",
   "version": "3.12.3"
  }
 },
 "nbformat": 4,
 "nbformat_minor": 5
}
